{
 "cells": [
  {
   "cell_type": "markdown",
   "metadata": {},
   "source": [
    "## Introduction\n"
   ]
  },
  {
   "cell_type": "code",
   "execution_count": 43,
   "metadata": {},
   "outputs": [],
   "source": [
    "import numpy as np"
   ]
  },
  {
   "cell_type": "code",
   "execution_count": 9,
   "metadata": {},
   "outputs": [
    {
     "name": "stdout",
     "output_type": "stream",
     "text": [
      "[0 1 2]\n"
     ]
    }
   ],
   "source": [
    "# Create an array with 3 integers, starting from the default integer 0.\n",
    "b = np.arange(3)\n",
    "print(b)"
   ]
  },
  {
   "cell_type": "code",
   "execution_count": 8,
   "metadata": {},
   "outputs": [
    {
     "name": "stdout",
     "output_type": "stream",
     "text": [
      "[ 1  4  7 10 13 16 19]\n"
     ]
    }
   ],
   "source": [
    "# Create an array that starts from the integer 1, ends at 20, incremented by 3.\n",
    "c = np.arange(1, 20, 3)\n",
    "print(c)"
   ]
  },
  {
   "cell_type": "code",
   "execution_count": 20,
   "metadata": {},
   "outputs": [
    {
     "name": "stdout",
     "output_type": "stream",
     "text": [
      "[  0.           6.66666667  13.33333333  20.          26.66666667\n",
      "  33.33333333  40.          46.66666667  53.33333333  60.\n",
      "  66.66666667  73.33333333  80.          86.66666667  93.33333333\n",
      " 100.        ]\n",
      "[[  0.           6.66666667  13.33333333  20.        ]\n",
      " [ 26.66666667  33.33333333  40.          46.66666667]\n",
      " [ 53.33333333  60.          66.66666667  73.33333333]\n",
      " [ 80.          86.66666667  93.33333333 100.        ]]\n"
     ]
    }
   ],
   "source": [
    "lin_spaced_arr = np.linspace(0, 100, 16)\n",
    "print(lin_spaced_arr)\n",
    "\n",
    "matrix = np.reshape(lin_spaced_arr, (4, 4))\n",
    "print(matrix)"
   ]
  },
  {
   "cell_type": "code",
   "execution_count": null,
   "metadata": {},
   "outputs": [],
   "source": [
    "ones_arr = np.ones(16)\n",
    "print(ones_arr)\n",
    "\n",
    "matrix = np.reshape(ones_arr, (4, 4))\n",
    "print(matrix)"
   ]
  },
  {
   "cell_type": "code",
   "execution_count": null,
   "metadata": {},
   "outputs": [],
   "source": [
    "ones_arr = np.ones(16)\n",
    "print(ones_arr)\n",
    "\n",
    "matrix = np.reshape(ones_arr, (4, 4))\n",
    "print(matrix)"
   ]
  },
  {
   "cell_type": "code",
   "execution_count": 12,
   "metadata": {},
   "outputs": [
    {
     "data": {
      "text/plain": [
       "2"
      ]
     },
     "execution_count": 12,
     "metadata": {},
     "output_type": "execute_result"
    }
   ],
   "source": [
    "# Dimension of the 2-D array multi_dim_arr\n",
    "matrix.ndim"
   ]
  },
  {
   "cell_type": "code",
   "execution_count": 13,
   "metadata": {},
   "outputs": [
    {
     "data": {
      "text/plain": [
       "(4, 4)"
      ]
     },
     "execution_count": 13,
     "metadata": {},
     "output_type": "execute_result"
    }
   ],
   "source": [
    "# Shape of the 2-D array multi_dim_arr\n",
    "# Returns shape of 2 rows and 3 columns\n",
    "matrix.shape"
   ]
  },
  {
   "cell_type": "code",
   "execution_count": 14,
   "metadata": {},
   "outputs": [
    {
     "data": {
      "text/plain": [
       "16"
      ]
     },
     "execution_count": 14,
     "metadata": {},
     "output_type": "execute_result"
    }
   ],
   "source": [
    "# Size of the array multi_dim_arr\n",
    "# Returns total number of elements\n",
    "matrix.size"
   ]
  },
  {
   "cell_type": "code",
   "execution_count": 16,
   "metadata": {},
   "outputs": [
    {
     "name": "stdout",
     "output_type": "stream",
     "text": [
      "[ 3  7 11]\n",
      "[ 2 12 30]\n",
      "[ 4  8 12]\n"
     ]
    }
   ],
   "source": [
    "arr_1 = np.array([2, 4, 6])\n",
    "arr_2 = np.array([1, 3, 5])\n",
    "\n",
    "addition = arr_1 + arr_2\n",
    "print(addition)\n",
    "\n",
    "multiplication = arr_1 * arr_2\n",
    "print(multiplication)\n",
    "\n",
    "scalar_multiplication = arr_1 * 2\n",
    "print(scalar_multiplication)"
   ]
  },
  {
   "cell_type": "code",
   "execution_count": 19,
   "metadata": {},
   "outputs": [
    {
     "name": "stdout",
     "output_type": "stream",
     "text": [
      "8\n",
      "6\n"
     ]
    }
   ],
   "source": [
    "two_dim = np.array(([1, 2, 3], [4, 5, 6], [7, 8, 9]))\n",
    "\n",
    "print(two_dim[2, 1])\n",
    "print(two_dim[1, 2])"
   ]
  },
  {
   "cell_type": "code",
   "execution_count": 30,
   "metadata": {},
   "outputs": [
    {
     "name": "stdout",
     "output_type": "stream",
     "text": [
      "[  0.           8.33333333  16.66666667  25.          33.33333333\n",
      "  41.66666667  50.          58.33333333  66.66666667  75.\n",
      "  83.33333333  91.66666667 100.         108.33333333 116.66666667\n",
      " 125.         133.33333333 141.66666667 150.         158.33333333\n",
      " 166.66666667 175.         183.33333333 191.66666667 200.        ]\n"
     ]
    }
   ],
   "source": [
    "a = np.linspace(0, 200, 25)\n",
    "print(a)"
   ]
  },
  {
   "cell_type": "code",
   "execution_count": 26,
   "metadata": {},
   "outputs": [
    {
     "name": "stdout",
     "output_type": "stream",
     "text": [
      "[ 16.66666667  25.          33.33333333  41.66666667  50.\n",
      "  58.33333333  66.66666667  75.          83.33333333  91.66666667\n",
      " 100.         108.33333333 116.66666667 125.         133.33333333\n",
      " 141.66666667 150.         158.33333333 166.66666667 175.\n",
      " 183.33333333 191.66666667 200.        ]\n"
     ]
    }
   ],
   "source": [
    "sliced_arr = a[2:]\n",
    "print(sliced_arr)"
   ]
  },
  {
   "cell_type": "code",
   "execution_count": 27,
   "metadata": {},
   "outputs": [
    {
     "name": "stdout",
     "output_type": "stream",
     "text": [
      "[ 0.          8.33333333 16.66666667]\n"
     ]
    }
   ],
   "source": [
    "sliced_arr = a[:3]\n",
    "print(sliced_arr)"
   ]
  },
  {
   "cell_type": "code",
   "execution_count": 28,
   "metadata": {},
   "outputs": [
    {
     "name": "stdout",
     "output_type": "stream",
     "text": [
      "[  0.          16.66666667  33.33333333  50.          66.66666667\n",
      "  83.33333333 100.         116.66666667 133.33333333 150.\n",
      " 166.66666667 183.33333333 200.        ]\n"
     ]
    }
   ],
   "source": [
    "sliced_arr = a[::2]\n",
    "print(sliced_arr)"
   ]
  },
  {
   "cell_type": "code",
   "execution_count": null,
   "metadata": {},
   "outputs": [],
   "source": [
    "# Note that a == a[:] == a[::]\n",
    "print(a == a[:] == a[::])"
   ]
  },
  {
   "cell_type": "code",
   "execution_count": 32,
   "metadata": {},
   "outputs": [
    {
     "name": "stdout",
     "output_type": "stream",
     "text": [
      "[[  0.           8.33333333  16.66666667  25.          33.33333333]\n",
      " [ 41.66666667  50.          58.33333333  66.66666667  75.        ]\n",
      " [ 83.33333333  91.66666667 100.         108.33333333 116.66666667]\n",
      " [125.         133.33333333 141.66666667 150.         158.33333333]\n",
      " [166.66666667 175.         183.33333333 191.66666667 200.        ]]\n"
     ]
    }
   ],
   "source": [
    "two_dim = np.reshape(a, (5, 5))\n",
    "print(two_dim)"
   ]
  },
  {
   "cell_type": "code",
   "execution_count": 33,
   "metadata": {},
   "outputs": [
    {
     "name": "stdout",
     "output_type": "stream",
     "text": [
      "[[ 0.          8.33333333 16.66666667 25.         33.33333333]\n",
      " [41.66666667 50.         58.33333333 66.66666667 75.        ]]\n"
     ]
    }
   ],
   "source": [
    "# Slice the two_dim array to get the first two rows\n",
    "print(two_dim[0:2])"
   ]
  },
  {
   "cell_type": "code",
   "execution_count": 36,
   "metadata": {},
   "outputs": [
    {
     "name": "stdout",
     "output_type": "stream",
     "text": [
      "[[ 41.66666667  50.          58.33333333  66.66666667  75.        ]\n",
      " [ 83.33333333  91.66666667 100.         108.33333333 116.66666667]\n",
      " [125.         133.33333333 141.66666667 150.         158.33333333]]\n"
     ]
    }
   ],
   "source": [
    "# Similarily, slice the two_dim array to get the last two rows\n",
    "sliced_two_dim_rows = two_dim[1:4]\n",
    "print(sliced_two_dim_rows)"
   ]
  },
  {
   "cell_type": "code",
   "execution_count": 37,
   "metadata": {},
   "outputs": [
    {
     "name": "stdout",
     "output_type": "stream",
     "text": [
      "[  8.33333333  50.          91.66666667 133.33333333 175.        ]\n"
     ]
    }
   ],
   "source": [
    "# Get the second column\n",
    "sliced_two_dim_cols = two_dim[:, 1]\n",
    "print(sliced_two_dim_cols)"
   ]
  },
  {
   "cell_type": "code",
   "execution_count": 38,
   "metadata": {},
   "outputs": [
    {
     "name": "stdout",
     "output_type": "stream",
     "text": [
      "a1:\n",
      "[[1 1]\n",
      " [2 2]]\n",
      "a2:\n",
      "[[3 3]\n",
      " [4 4]]\n"
     ]
    }
   ],
   "source": [
    "a1 = np.array([[1, 1], [2, 2]])\n",
    "a2 = np.array([[3, 3], [4, 4]])\n",
    "print(f\"a1:\\n{a1}\")\n",
    "print(f\"a2:\\n{a2}\")"
   ]
  },
  {
   "cell_type": "code",
   "execution_count": 39,
   "metadata": {},
   "outputs": [
    {
     "name": "stdout",
     "output_type": "stream",
     "text": [
      "[[1 1]\n",
      " [2 2]\n",
      " [3 3]\n",
      " [4 4]]\n"
     ]
    }
   ],
   "source": [
    "# Stack the arrays vertically\n",
    "vert_stack = np.vstack((a1, a2))\n",
    "print(vert_stack)"
   ]
  },
  {
   "cell_type": "code",
   "execution_count": 40,
   "metadata": {},
   "outputs": [
    {
     "name": "stdout",
     "output_type": "stream",
     "text": [
      "[[1 1 3 3]\n",
      " [2 2 4 4]]\n"
     ]
    }
   ],
   "source": [
    "# Stack the arrays horizontally\n",
    "horz_stack = np.hstack((a1, a2))\n",
    "print(horz_stack)"
   ]
  },
  {
   "cell_type": "code",
   "execution_count": 41,
   "metadata": {},
   "outputs": [
    {
     "name": "stdout",
     "output_type": "stream",
     "text": [
      "[array([[1, 1],\n",
      "       [2, 2]]), array([[3, 3],\n",
      "       [4, 4]])]\n",
      "[array([[1],\n",
      "       [2]]), array([[1],\n",
      "       [2]]), array([[3],\n",
      "       [4]]), array([[3],\n",
      "       [4]])]\n",
      "[array([[1],\n",
      "       [2]]), array([[1, 3, 3],\n",
      "       [2, 4, 4]])]\n"
     ]
    }
   ],
   "source": [
    "# Split the horizontally stacked array into 2 separate arrays of equal size\n",
    "horz_split_two = np.hsplit(horz_stack, 2)\n",
    "print(horz_split_two)\n",
    "\n",
    "# Split the horizontally stacked array into 4 separate arrays of equal size\n",
    "horz_split_four = np.hsplit(horz_stack, 4)\n",
    "print(horz_split_four)\n",
    "\n",
    "# Split the horizontally stacked array after the first column\n",
    "horz_split_first = np.hsplit(horz_stack, [1])\n",
    "print(horz_split_first)"
   ]
  },
  {
   "cell_type": "code",
   "execution_count": 42,
   "metadata": {},
   "outputs": [
    {
     "name": "stdout",
     "output_type": "stream",
     "text": [
      "[array([[1, 1],\n",
      "       [2, 2]]), array([[3, 3],\n",
      "       [4, 4]])]\n",
      "[array([[1, 1]]), array([[2, 2]]), array([[3, 3]]), array([[4, 4]])]\n",
      "[array([[1, 1]]), array([[2, 2],\n",
      "       [3, 3]]), array([[4, 4]])]\n"
     ]
    }
   ],
   "source": [
    "# Split the vertically stacked array into 2 separate arrays of equal size\n",
    "vert_split_two = np.vsplit(vert_stack, 2)\n",
    "print(vert_split_two)\n",
    "\n",
    "# Split the horizontally stacked array into 4 separate arrays of equal size\n",
    "vert_split_four = np.vsplit(vert_stack, 4)\n",
    "print(vert_split_four)\n",
    "\n",
    "# Split the horizontally stacked array after the first and third row\n",
    "vert_split_first_third = np.vsplit(vert_stack, [1, 3])\n",
    "print(vert_split_first_third)"
   ]
  },
  {
   "cell_type": "markdown",
   "metadata": {},
   "source": [
    "## Matrix Equations\n"
   ]
  },
  {
   "cell_type": "code",
   "execution_count": 3,
   "metadata": {},
   "outputs": [],
   "source": [
    "import numpy as np\n",
    "import matplotlib.pyplot as plt"
   ]
  },
  {
   "cell_type": "code",
   "execution_count": 28,
   "metadata": {},
   "outputs": [
    {
     "name": "stdout",
     "output_type": "stream",
     "text": [
      "Matrix A:\n",
      "[[-1.  3.]\n",
      " [ 3.  2.]]\n",
      "\n",
      "Array b:\n",
      "[7. 1.]\n"
     ]
    }
   ],
   "source": [
    "A = np.array([[-1, 3], [3, 2]], dtype=np.dtype(float))\n",
    "b = np.array([7, 1], dtype=np.dtype(float))\n",
    "\n",
    "print(\"Matrix A:\")\n",
    "print(A)\n",
    "print(\"\\nArray b:\")\n",
    "print(b)"
   ]
  },
  {
   "cell_type": "code",
   "execution_count": 8,
   "metadata": {},
   "outputs": [
    {
     "name": "stdout",
     "output_type": "stream",
     "text": [
      "Shape of A: (2, 2)\n",
      "Shape of A: (2,)\n"
     ]
    }
   ],
   "source": [
    "print(f\"Shape of A: {np.shape(A)}\")\n",
    "print(f\"Shape of A: {np.shape(b)}\")"
   ]
  },
  {
   "cell_type": "code",
   "execution_count": 25,
   "metadata": {},
   "outputs": [
    {
     "name": "stdout",
     "output_type": "stream",
     "text": [
      "Solution: [-1.  2.]\n"
     ]
    }
   ],
   "source": [
    "# To find the solution of the linear system\n",
    "try:\n",
    "    x = np.linalg.solve(A, b)\n",
    "    print(f\"Solution: {x}\")\n",
    "except np.linalg.LinAlgError as err:\n",
    "    print(err)"
   ]
  },
  {
   "cell_type": "code",
   "execution_count": 11,
   "metadata": {},
   "outputs": [
    {
     "name": "stdout",
     "output_type": "stream",
     "text": [
      "-11.00\n"
     ]
    }
   ],
   "source": [
    "# Determinant\n",
    "d = np.linalg.det(A)\n",
    "\n",
    "print(f\"{d:.2f}\")"
   ]
  },
  {
   "cell_type": "code",
   "execution_count": 16,
   "metadata": {},
   "outputs": [
    {
     "name": "stdout",
     "output_type": "stream",
     "text": [
      "[[-1.  3.  7.]\n",
      " [ 3.  2.  1.]]\n"
     ]
    }
   ],
   "source": [
    "A_system = np.hstack((A, b.reshape((2, 1))))\n",
    "\n",
    "print(A_system)"
   ]
  },
  {
   "cell_type": "code",
   "execution_count": 64,
   "metadata": {},
   "outputs": [
    {
     "name": "stdout",
     "output_type": "stream",
     "text": [
      "Solution: [14.  4. -4.]\n"
     ]
    }
   ],
   "source": [
    "A = np.array([[1, 2, 3], [2, 6, 12], [4, -8, 4]], dtype=np.dtype(float))\n",
    "b = np.array([10, 4, 8], dtype=np.dtype(float))\n",
    "\n",
    "try:\n",
    "    x = np.linalg.solve(A, b)\n",
    "    print(f\"Solution: {x}\")\n",
    "except np.linalg.LinAlgError as err:\n",
    "    print(f\"Error: {err}\")"
   ]
  },
  {
   "cell_type": "code",
   "execution_count": 62,
   "metadata": {},
   "outputs": [
    {
     "name": "stdout",
     "output_type": "stream",
     "text": [
      "Determinant: 80.00\n",
      "Determinant: 160.00\n",
      "Determinant: -80.00\n"
     ]
    }
   ],
   "source": [
    "A = np.array([[1, 2, 3], [2, 6, 12], [4, -8, 4]], dtype=np.dtype(float))\n",
    "d = np.linalg.det(A)\n",
    "\n",
    "print(f\"Determinant: {d:.2f}\")\n",
    "\n",
    "# Multiply a row\n",
    "A = np.array([[2, 4, 6], [2, 6, 12], [4, -8, 4]], dtype=np.dtype(float))\n",
    "d = np.linalg.det(A)\n",
    "\n",
    "print(f\"Determinant: {d:.2f}\")\n",
    "\n",
    "# Swapping rows\n",
    "A = np.array([[2, 6, 12], [1, 2, 3], [4, -8, 4]], dtype=np.dtype(float))\n",
    "d = np.linalg.det(A)\n",
    "\n",
    "print(f\"Determinant: {d:.2f}\")"
   ]
  },
  {
   "cell_type": "markdown",
   "metadata": {},
   "source": [
    "## Gauss elimination\n"
   ]
  },
  {
   "cell_type": "code",
   "execution_count": 65,
   "metadata": {},
   "outputs": [
    {
     "name": "stdout",
     "output_type": "stream",
     "text": [
      "Identity matrix: [[ 3.          4.          6.        ]\n",
      " [ 0.          1.66666667 -1.        ]\n",
      " [ 0.          0.          0.        ]]\n"
     ]
    }
   ],
   "source": [
    "from scipy.linalg import lu\n",
    "\n",
    "A = np.array([[2, 1, 5], [1, 3, 1], [3, 4, 6]], dtype=np.dtype(float))\n",
    "\n",
    "pl, u = lu(A, permute_l=True)\n",
    "\n",
    "gauss = u\n",
    "\n",
    "print(f\"Identity matrix: {gauss}\")"
   ]
  }
 ],
 "metadata": {
  "kernelspec": {
   "display_name": "Python 3",
   "language": "python",
   "name": "python3"
  },
  "language_info": {
   "codemirror_mode": {
    "name": "ipython",
    "version": 3
   },
   "file_extension": ".py",
   "mimetype": "text/x-python",
   "name": "python",
   "nbconvert_exporter": "python",
   "pygments_lexer": "ipython3",
   "version": "3.11.4"
  }
 },
 "nbformat": 4,
 "nbformat_minor": 2
}
